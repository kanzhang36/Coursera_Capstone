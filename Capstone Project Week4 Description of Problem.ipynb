{
    "cells": [
        {
            "cell_type": "markdown",
            "metadata": {
                "collapsed": true
            },
            "source": "# Capstone Project Week4\n## Description of Problem and Background"
        },
        {
            "cell_type": "markdown",
            "metadata": {},
            "source": "### Problem Statement\nWe would like to understand which neighborhoods of Salt Lake City area are better for opening a restaurant and which type of restaurant (Chinese, Japanese, American, etc.) it should be."
        },
        {
            "cell_type": "markdown",
            "metadata": {},
            "source": "### Discussion of Background"
        },
        {
            "cell_type": "markdown",
            "metadata": {},
            "source": "The Salt Lake City area is drawing a lot of people moving into the area which gives a profit opportunity of opening a restaurant. We would like to first understand the current status of the neighborhoods so we know which areas have more restaurants already. We would also like to understand if demographic factors such as population, household, income, etc. can explain the difference among neighborhoods. Such understanding may give us insights on which neighborhood we should open the restaurant."
        },
        {
            "cell_type": "code",
            "execution_count": null,
            "metadata": {},
            "outputs": [],
            "source": ""
        }
    ],
    "metadata": {
        "kernelspec": {
            "display_name": "Python 3.7",
            "language": "python",
            "name": "python3"
        },
        "language_info": {
            "codemirror_mode": {
                "name": "ipython",
                "version": 3
            },
            "file_extension": ".py",
            "mimetype": "text/x-python",
            "name": "python",
            "nbconvert_exporter": "python",
            "pygments_lexer": "ipython3",
            "version": "3.7.10"
        }
    },
    "nbformat": 4,
    "nbformat_minor": 1
}