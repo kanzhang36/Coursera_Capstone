{
    "cells": [
        {
            "cell_type": "markdown",
            "metadata": {
                "collapsed": true
            },
            "source": "# Capstone Project Week4\n## Description of Data and Work Flow"
        },
        {
            "cell_type": "markdown",
            "metadata": {},
            "source": "### Data Source\n#### 1: Neighborhood data for the Salt Lake City area\nNeighborhood data is taken from this website: https://statisticalatlas.com/place/Utah/Salt-Lake-City/Overview"
        },
        {
            "cell_type": "markdown",
            "metadata": {},
            "source": "#### 2: Venue data for each neighborhood\nThis data is taken from foursquare using their API."
        },
        {
            "cell_type": "markdown",
            "metadata": {},
            "source": "#### 3: Demographic data for each neighborhood\nThis data is taken from a series of websites based on the list of neighborhoods and factors that we are interested in. Examples of factors can be: population, number of household, age and sex, race and ethnicity, household type (married or not), income, etc. We will use these neighborhoods and factors to scan through a series of websites. One example is: https://statisticalatlas.com/neighborhood/Utah/Salt-Lake-City/Yalecrest/Race-and-Ethnicity"
        },
        {
            "cell_type": "markdown",
            "metadata": {},
            "source": "### Work Flow"
        },
        {
            "cell_type": "markdown",
            "metadata": {},
            "source": "#### 1. Data retrieval\n1.1 Retrieve the neighborhood list of Salt Lake City area  \n1.2 Generate the list of demographic factors we are interested in  \n1.3 Create functions for these purposes  \n    1.3.1: generate the website for the specific neighborhood and factor.  \n    1.3.2: functions to extrate needed data from the website. Note that because each factor's websites (for different neighborhoods) are different, each factor's extraction function can be different.  \n1.4 Iterate through all the links of websites and call the corresponding function to extract data and create dataframes."
        },
        {
            "cell_type": "markdown",
            "metadata": {},
            "source": "#### 2. Neighborhood clustering\n2.1 Following similar method for previous assignment: generate the top venue types for each neighborhood.  \n2.2 Cluster neighborhood to understand which neighborhood has more restaurants and which type of restaurant is more popular.  \n2.3 Examine if demographic factors show significant difference among clusters.  \n2.4 Examine if a model can be created to explain the restaurant percentage in each neighborhood. If so, then find which neighborhoods have less restaurant than model predicted. Such neighborhoods can be an opportunity to open new restaurants."
        },
        {
            "cell_type": "code",
            "execution_count": null,
            "metadata": {},
            "outputs": [],
            "source": ""
        }
    ],
    "metadata": {
        "kernelspec": {
            "display_name": "Python 3.7",
            "language": "python",
            "name": "python3"
        },
        "language_info": {
            "codemirror_mode": {
                "name": "ipython",
                "version": 3
            },
            "file_extension": ".py",
            "mimetype": "text/x-python",
            "name": "python",
            "nbconvert_exporter": "python",
            "pygments_lexer": "ipython3",
            "version": "3.7.10"
        }
    },
    "nbformat": 4,
    "nbformat_minor": 1
}